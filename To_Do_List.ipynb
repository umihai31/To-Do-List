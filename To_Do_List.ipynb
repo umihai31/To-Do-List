{
  "nbformat": 4,
  "nbformat_minor": 0,
  "metadata": {
    "colab": {
      "provenance": [],
      "authorship_tag": "ABX9TyNwtVXgsTjKjI4+gtcU2qlS",
      "include_colab_link": true
    },
    "kernelspec": {
      "name": "python3",
      "display_name": "Python 3"
    },
    "language_info": {
      "name": "python"
    }
  },
  "cells": [
    {
      "cell_type": "markdown",
      "metadata": {
        "id": "view-in-github",
        "colab_type": "text"
      },
      "source": [
        "<a href=\"https://colab.research.google.com/github/umihai31/To-Do-List/blob/main/To_Do_List.ipynb\" target=\"_parent\"><img src=\"https://colab.research.google.com/assets/colab-badge.svg\" alt=\"Open In Colab\"/></a>"
      ]
    },
    {
      "cell_type": "markdown",
      "source": [
        "# To Do List APP\n",
        "\n",
        "Welcome to the To-Do List App!\n",
        "\n",
        "1. Add Task\n",
        "2. View Tasks\n",
        "3. Mark Task as Completed\n",
        "4. Remove Task\n",
        "5. Exit\n",
        "\n",
        "Enter your choice: 1\n",
        "Enter the task description: Buy groceries\n",
        "Task added successfully!\n",
        "\n",
        "Enter your choice: 2\n",
        "Tasks:\n",
        "1. Buy groceries (Pending)\n",
        "\n",
        "Enter your choice: 3\n",
        "Enter the task number to mark as completed: 1\n",
        "Task marked as completed!\n",
        "\n",
        "Enter your choice: 2\n",
        "Tasks:\n",
        "1. Buy groceries (Completed)\n",
        "\n",
        "Enter your choice: 4\n",
        "Enter the task number to remove: 1\n",
        "Task removed successfully!\n",
        "\n",
        "Enter your choice: 2\n",
        "No tasks found.\n",
        "\n",
        "Enter your choice: 5\n",
        "Thank you for using the To-Do List App!"
      ],
      "metadata": {
        "id": "Ivz214IIWD1l"
      }
    },
    {
      "cell_type": "code",
      "source": [
        "class Task():\n",
        "  def __init__(self,description,completed):\n",
        "    self.description = description\n",
        "    self.completed = completed"
      ],
      "metadata": {
        "id": "zXhF4m1A1i0u"
      },
      "execution_count": 62,
      "outputs": []
    },
    {
      "cell_type": "code",
      "source": [
        "def add_task():\n",
        "  desc = input(\"Enter description:\")\n",
        "  task = Task(desc,0)\n",
        "  return task\n",
        "\n",
        "def view_task(task_list):\n",
        "  print(\"Tasks:\")\n",
        "  if task_list:\n",
        "    for i in range(len(task_list)):\n",
        "      if task_list[i].completed == 0:\n",
        "        print(str(i + 1) + \".\" + task_list[i].description + \"(Pending)\")\n",
        "      else:\n",
        "        print(str(i + 1) + \".\" + task_list[i].description + \"(Completed)\")\n",
        "  else:\n",
        "      print(\"No task found\")\n",
        "\n",
        "\n",
        "def mark_as_completed(task_list,task_number):\n",
        "  task_list[task_number].completed = 1\n",
        "  if task_list[task_number].completed == 1:\n",
        "    print(\"Task succesfully marked as completed\")\n",
        "  else:\n",
        "    print(\"Something went wrong\")\n",
        "  return task_list\n",
        "\n",
        "def deleted_from_list(task_list, number):\n",
        "  task_list.pop(number)\n",
        "  print(\"Task removed successfully!\")\n",
        "  return task_list\n",
        "\n"
      ],
      "metadata": {
        "id": "-wpSeIh52Nib"
      },
      "execution_count": 63,
      "outputs": []
    },
    {
      "cell_type": "code",
      "source": [
        "print(\"Welcome to the To-Do List App!\")\n",
        "print(\"\"\"1. Add Task \\n\n",
        "2. View Tasks \\n\n",
        "3. Mark Task as Completed \\n\n",
        "4. Remove Task \\n\n",
        "5. Exit\"\"\")\n",
        "\n",
        "choice = int(input(\"Enter your choice: \"))\n",
        "\n",
        "list_of_tasks = []\n",
        "\n",
        "while choice != 5:\n",
        "  if choice == 1:\n",
        "    task = add_task()\n",
        "    list_of_tasks.append(task)\n",
        "  if choice == 2:\n",
        "    view_task(list_of_tasks)\n",
        "  if choice == 3:\n",
        "    task_number = int(input(\"Enter the task number to mark as completed: \"))\n",
        "    mark_as_completed(list_of_tasks,task_number - 1)\n",
        "  if choice == 4:\n",
        "    task_del = int(input(\"Enter the task number to remove: \"))\n",
        "    deleted_from_list(list_of_tasks, task_del - 1)\n",
        "  choice = int(input(\"Enter your choice: \"))\n",
        "\n",
        "print(\"Thank you for using the To-Do List App!\")"
      ],
      "metadata": {
        "colab": {
          "base_uri": "https://localhost:8080/"
        },
        "id": "ODvN8hrd1Tly",
        "outputId": "27732719-adb0-4900-eb8c-f39da0c37e83"
      },
      "execution_count": 64,
      "outputs": [
        {
          "output_type": "stream",
          "name": "stdout",
          "text": [
            "Welcome to the To-Do List App!\n",
            "1. Add Task \n",
            "\n",
            "2. View Tasks \n",
            "\n",
            "3. Mark Task as Completed \n",
            "\n",
            "4. Remove Task \n",
            "\n",
            "5. Exit\n",
            "Enter your choice: 5\n",
            "Thank you for using the To-Do List App!\n"
          ]
        }
      ]
    }
  ]
}